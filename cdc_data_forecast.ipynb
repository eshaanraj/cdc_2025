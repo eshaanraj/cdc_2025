{
  "nbformat": 4,
  "nbformat_minor": 0,
  "metadata": {
    "colab": {
      "provenance": [],
      "include_colab_link": true
    },
    "kernelspec": {
      "name": "python3",
      "display_name": "Python 3"
    },
    "language_info": {
      "name": "python"
    }
  },
  "cells": [
    {
      "cell_type": "markdown",
      "metadata": {
        "id": "view-in-github",
        "colab_type": "text"
      },
      "source": [
        "<a href=\"https://colab.research.google.com/github/eshaanraj/cdc_2025/blob/main/cdc_data_forecast.ipynb\" target=\"_parent\"><img src=\"https://colab.research.google.com/assets/colab-badge.svg\" alt=\"Open In Colab\"/></a>"
      ]
    },
    {
      "cell_type": "code",
      "execution_count": null,
      "metadata": {
        "id": "QR4D776mxqOA"
      },
      "outputs": [],
      "source": [
        "\"\"\"\n",
        "Forecast each sectors growth using Exponential Smoothing method for the next 5 years.\n",
        "plain_cdc_dataset is the data of the BEA survey\n",
        "\"\"\"\n",
        "!pip install pandas statsmodels openpyxl xlsxwriter\n",
        "\n",
        "import pandas as pd\n",
        "from statsmodels.tsa.holtwinters import Holt\n",
        "\n",
        "INPUT_PATH = \"plain_cdc_dataset.xlsx\"\n",
        "OUTPUT_CSV = \"sector_forecasts.csv\"\n",
        "OUTPUT_XLSX = \"sector_forecasts.xlsx\"\n",
        "\n",
        "def load_plain_dataset():\n",
        "    \"\"\"tidy the dataset\"\"\"\n",
        "    raw = pd.read_excel(INPUT_PATH, sheet_name=0)\n",
        "\n",
        "    obj_cols = [c for c in raw.columns if raw[c].dtype == \"O\"]\n",
        "    industry_col = obj_cols[0] if obj_cols else raw.columns[0]\n",
        "\n",
        "    year_cols = [c for c in raw.columns if str(c).isdigit()]\n",
        "    dfw = raw[[industry_col] + year_cols].copy()\n",
        "    dfw = dfw.rename(columns={industry_col: \"Industry\"})\n",
        "    dfw[\"Industry\"] = dfw[\"Industry\"].ffill()\n",
        "\n",
        "    tidy = dfw.melt(id_vars=[\"Industry\"], var_name=\"Year\", value_name=\"Value\")\n",
        "    tidy[\"Year\"] = pd.to_numeric(tidy[\"Year\"], errors=\"coerce\").astype(\"Int64\")\n",
        "    tidy[\"Value\"] = pd.to_numeric(tidy[\"Value\"], errors=\"coerce\")\n",
        "    return tidy.dropna(subset=[\"Industry\", \"Year\", \"Value\"])\n",
        "\n",
        "def forecast_industry(series, horizon=5):\n",
        "    \"\"\"Run exponential smoothing method.\"\"\"\n",
        "    s = series.dropna().sort_index()\n",
        "    if s.size < 3:\n",
        "        return None\n",
        "    model = Holt(s, initialization_method=\"estimated\")\n",
        "    fit = model.fit(optimized=True)\n",
        "    last_year = int(s.index.max())\n",
        "    future_years = list(range(last_year + 1, last_year + 1 + horizon))\n",
        "    forecast = fit.forecast(horizon)\n",
        "    return pd.DataFrame({\n",
        "        \"Year\": future_years,\n",
        "        \"Forecast\": forecast,\n",
        "        \"alpha\": fit.params.get(\"smoothing_level\"),\n",
        "        \"beta\": fit.params.get(\"smoothing_trend\"),\n",
        "        \"rmse_in_sample\": ((fit.fittedvalues - s) ** 2).mean() ** 0.5\n",
        "    })\n",
        "\n",
        "def main():\n",
        "    df = load_plain_dataset()\n",
        "    df = df.groupby([\"Industry\", \"Year\"], as_index=False)[\"Value\"].mean()\n",
        "\n",
        "    results = []\n",
        "    for ind, grp in df.groupby(\"Industry\"):\n",
        "        s = grp.set_index(\"Year\")[\"Value\"].sort_index()\n",
        "        res = forecast_industry(s)\n",
        "        if res is not None:\n",
        "            res.insert(0, \"Industry\", ind)\n",
        "            results.append(res)\n",
        "\n",
        "    out = pd.concat(results, ignore_index=True)\n",
        "    out.to_csv(OUTPUT_CSV, index=False)\n",
        "    with pd.ExcelWriter(OUTPUT_XLSX, engine=\"xlsxwriter\") as writer:\n",
        "        out.to_excel(writer, sheet_name=\"Forecasts\", index=False)\n",
        "    print(\"Saved forecasts to:\", OUTPUT_CSV, \"and\", OUTPUT_XLSX)\n",
        "\n",
        "if __name__ == \"__main__\":\n",
        "    main()"
      ]
    },
    {
      "cell_type": "code",
      "source": [],
      "metadata": {
        "id": "caU0haY7Aqy-",
        "colab": {
          "base_uri": "https://localhost:8080/"
        },
        "outputId": "3d401103-e967-4722-8309-c2619d13a10f"
      },
      "execution_count": null,
      "outputs": [
        {
          "output_type": "stream",
          "name": "stdout",
          "text": [
            "Saved: plain_format_forecasts.xlsx\n",
            "Saved: plain_format_extended.xlsx\n"
          ]
        }
      ]
    },
    {
      "cell_type": "markdown",
      "source": [],
      "metadata": {
        "id": "RHRdgsVGGI4h"
      }
    },
    {
      "cell_type": "code",
      "source": [],
      "metadata": {
        "id": "qkCOGXEz_RAH"
      },
      "execution_count": null,
      "outputs": []
    }
  ]
}