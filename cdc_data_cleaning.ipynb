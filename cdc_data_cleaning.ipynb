{
  "nbformat": 4,
  "nbformat_minor": 0,
  "metadata": {
    "colab": {
      "provenance": [],
      "authorship_tag": "ABX9TyOuMUlGZkywNExbER0uEuPG",
      "include_colab_link": true
    },
    "kernelspec": {
      "name": "python3",
      "display_name": "Python 3"
    },
    "language_info": {
      "name": "python"
    }
  },
  "cells": [
    {
      "cell_type": "markdown",
      "metadata": {
        "id": "view-in-github",
        "colab_type": "text"
      },
      "source": [
        "<a href=\"https://colab.research.google.com/github/eshaanraj/cdc_2025/blob/main/cdc_data_cleaning.ipynb\" target=\"_parent\"><img src=\"https://colab.research.google.com/assets/colab-badge.svg\" alt=\"Open In Colab\"/></a>"
      ]
    },
    {
      "cell_type": "code",
      "execution_count": null,
      "metadata": {
        "id": "wkbp5rPH-nmF"
      },
      "outputs": [],
      "source": [
        "\"\"\"\n",
        "Clean the dataset outputted from the previous script\n",
        "\"\"\"\n",
        "\n",
        "import pandas as pd\n",
        "from pathlib import Path\n",
        "\n",
        "\n",
        "INPUT_FORECAST = \"sector_forecasts.csv\"\n",
        "INPUT_PLAIN    = \"plain_cdc_dataset.xlsx\"\n",
        "APPEND_TO_PLAIN = True\n",
        "\n",
        "OUT_WIDE_FORECASTS = \"plain_format_forecasts.xlsx\"\n",
        "OUT_WIDE_EXTENDED  = \"plain_format_extended.xlsx\"\n",
        "\n",
        "\n",
        "def load_forecasts(path: str) -> pd.DataFrame:\n",
        "    p = Path(path)\n",
        "    if p.suffix.lower() == \".csv\":\n",
        "        df = pd.read_csv(p)\n",
        "    else:\n",
        "        df = pd.read_excel(p)\n",
        "    # keep only needed cols\n",
        "    df = df[[\"Industry\", \"Year\", \"Forecast\"]].copy()\n",
        "    df[\"Year\"] = pd.to_numeric(df[\"Year\"], errors=\"coerce\").astype(\"Int64\")\n",
        "    df = df.dropna(subset=[\"Industry\", \"Year\", \"Forecast\"])\n",
        "    return df\n",
        "\n",
        "def forecasts_to_wide(df_fc: pd.DataFrame) -> pd.DataFrame:\n",
        "    wide = (\n",
        "        df_fc\n",
        "        .pivot_table(index=\"Industry\", columns=\"Year\", values=\"Forecast\", aggfunc=\"mean\")\n",
        "        .reset_index()\n",
        "    )\n",
        "    year_cols = sorted([c for c in wide.columns if isinstance(c, (int, float, pd.Int64Dtype)) or str(c).isdigit()],\n",
        "                       key=lambda x: int(str(x)))\n",
        "    cols = [\"Industry\"] + year_cols\n",
        "    wide = wide[cols]\n",
        "    wide.columns = [\"Industry\"] + [int(str(c)) for c in wide.columns[1:]]\n",
        "    return wide\n",
        "\n",
        "def append_to_plain(wide_fc: pd.DataFrame, plain_path: str) -> pd.DataFrame:\n",
        "    plain = pd.read_excel(plain_path, sheet_name=0)\n",
        "\n",
        "    obj_cols = [c for c in plain.columns if plain[c].dtype == \"O\"]\n",
        "    industry_col = obj_cols[0] if obj_cols else plain.columns[0]\n",
        "    plain = plain.rename(columns={industry_col: \"Industry\"})\n",
        "\n",
        "    plain_years_str = [str(c) for c in plain.columns if str(c).isdigit()]\n",
        "    plain_years = [int(y) for y in plain_years_str]\n",
        "\n",
        "    for y_str in plain_years_str:\n",
        "        plain[y_str] = pd.to_numeric(plain[y_str], errors=\"coerce\")\n",
        "\n",
        "    fc_years = [c for c in wide_fc.columns if c != \"Industry\"]\n",
        "    new_years = [y for y in fc_years if y not in plain_years]\n",
        "\n",
        "    merged = plain.merge(wide_fc[[\"Industry\"] + new_years], on=\"Industry\", how=\"outer\")\n",
        "\n",
        "    out_years = sorted([c for c in merged.columns if c != \"Industry\" and str(c).isdigit()], key=int)\n",
        "    merged = merged[[\"Industry\"] + out_years]\n",
        "    return merged\n",
        "\n",
        "def main():\n",
        "    df_fc = load_forecasts(INPUT_FORECAST)\n",
        "    wide_fc = forecasts_to_wide(df_fc)\n",
        "    with pd.ExcelWriter(OUT_WIDE_FORECASTS, engine=\"xlsxwriter\") as w:\n",
        "        wide_fc.to_excel(w, index=False, sheet_name=\"ForecastsWide\")\n",
        "\n",
        "    if APPEND_TO_PLAIN:\n",
        "        extended = append_to_plain(wide_fc, INPUT_PLAIN)\n",
        "        with pd.ExcelWriter(OUT_WIDE_EXTENDED, engine=\"xlsxwriter\") as w:\n",
        "            extended.to_excel(w, index=False, sheet_name=\"Extended\")\n",
        "\n",
        "    print(\"Saved:\", OUT_WIDE_FORECASTS)\n",
        "    if APPEND_TO_PLAIN:\n",
        "        print(\"Saved:\", OUT_WIDE_EXTENDED)\n",
        "\n",
        "if __name__ == \"__main__\":\n",
        "    main()"
      ]
    }
  ]
}